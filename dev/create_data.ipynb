{
 "cells": [
  {
   "cell_type": "markdown",
   "metadata": {},
   "source": [
    "## Create Dataset & Upload to Hub\n"
   ]
  },
  {
   "cell_type": "code",
   "execution_count": 1,
   "metadata": {},
   "outputs": [
    {
     "name": "stderr",
     "output_type": "stream",
     "text": [
      "/Users/pham/Pham/signal/mamba-muse/.venv/lib/python3.12/site-packages/tqdm/auto.py:21: TqdmWarning: IProgress not found. Please update jupyter and ipywidgets. See https://ipywidgets.readthedocs.io/en/stable/user_install.html\n",
      "  from .autonotebook import tqdm as notebook_tqdm\n"
     ]
    }
   ],
   "source": [
    "from datasets import load_dataset\n",
    "import os\n",
    "import numpy as np\n",
    "import aiohttp"
   ]
  },
  {
   "cell_type": "code",
   "execution_count": 2,
   "metadata": {},
   "outputs": [],
   "source": [
    "def get_data(dataset: str = \"jg583/NSynth\", num_train_samples: int = 41600, num_val_samples: int = 3200, num_test_samples: int = 128, mini: bool = False):\n",
    "\n",
    "    dataset = load_dataset(\n",
    "                dataset,\n",
    "                trust_remote_code=True,\n",
    "                cache_dir=os.getcwd() + \"/data\",\n",
    "                storage_options={\n",
    "                    \"client_kwargs\": {\"timeout\": aiohttp.ClientTimeout(total=3600)}\n",
    "                }, # https://github.com/huggingface/datasets/issues/7164\n",
    "            )\n",
    "    \n",
    "    splits = [\"train\", \"validation\", \"test\"]\n",
    "    \n",
    "    # remove all synthetic instruments\n",
    "    for split in splits :\n",
    "        dataset[split] = dataset[split].filter(\n",
    "            lambda x: x[\"instrument_source_str\"] != \"synthetic\", num_proc=5\n",
    "        )\n",
    "        dataset[split] = dataset[split].filter(\n",
    "            lambda x: x[\"velocity\"] > 50, num_proc=5\n",
    "        )\n",
    "\n",
    "    num_samples = (num_train_samples, num_val_samples, num_test_samples)\n",
    "    if mini:\n",
    "        num_samples = (1280, 256, 128)\n",
    "\n",
    "    # only keep N samples for each split\n",
    "    for split, num_sample in zip(splits, num_samples):\n",
    "        dataset[split] = dataset[split].shuffle(seed=42).select(range(num_sample))\n",
    "\n",
    "    return dataset"
   ]
  },
  {
   "cell_type": "code",
   "execution_count": 3,
   "metadata": {},
   "outputs": [
    {
     "name": "stdout",
     "output_type": "stream",
     "text": [
      "train: 41600\n",
      "validation: 3200\n",
      "test: 128\n"
     ]
    }
   ],
   "source": [
    "nsynth = get_data(\"jg583/NSynth\")\n",
    "for split in [\"train\", \"validation\", \"test\"]:\n",
    "    print(f\"{split}: {len(nsynth[split])}\")"
   ]
  },
  {
   "cell_type": "code",
   "execution_count": 4,
   "metadata": {},
   "outputs": [],
   "source": [
    "def chunk_data(data):\n",
    "    \n",
    "    max_start_index = 16_000\n",
    "    audio_length = int(16_000 * 2.1)\n",
    "\n",
    "    # randomly select 2 second segement of audio starting within first second\n",
    "    def chunk_audio(x): \n",
    "        start = np.random.randint(0, max_start_index)\n",
    "        x[\"audio\"][\"array\"] = x[\"audio\"][\"array\"][start : start + audio_length]\n",
    "        return x\n",
    "\n",
    "    data[\"train\"] = data[\"train\"].map(chunk_audio, num_proc=5)\n",
    "    data[\"validation\"] = data[\"validation\"].map(chunk_audio, num_proc=5)\n",
    "\n",
    "    return data"
   ]
  },
  {
   "cell_type": "code",
   "execution_count": 5,
   "metadata": {},
   "outputs": [
    {
     "name": "stderr",
     "output_type": "stream",
     "text": [
      "Map (num_proc=5): 100%|██████████| 3200/3200 [00:12<00:00, 246.29 examples/s] \n"
     ]
    }
   ],
   "source": [
    "nsynth_cut = chunk_data(nsynth)"
   ]
  },
  {
   "cell_type": "code",
   "execution_count": 6,
   "metadata": {},
   "outputs": [
    {
     "data": {
      "text/plain": [
       "(33600,)"
      ]
     },
     "execution_count": 6,
     "metadata": {},
     "output_type": "execute_result"
    }
   ],
   "source": [
    "nsynth_cut[\"train\"][0][\"audio\"][\"array\"].shape"
   ]
  },
  {
   "cell_type": "code",
   "execution_count": 7,
   "metadata": {},
   "outputs": [
    {
     "data": {
      "text/plain": [
       "(33600,)"
      ]
     },
     "execution_count": 7,
     "metadata": {},
     "output_type": "execute_result"
    }
   ],
   "source": [
    "nsynth_cut[\"validation\"][0][\"audio\"][\"array\"].shape"
   ]
  },
  {
   "cell_type": "code",
   "execution_count": 8,
   "metadata": {},
   "outputs": [
    {
     "data": {
      "text/plain": [
       "(64000,)"
      ]
     },
     "execution_count": 8,
     "metadata": {},
     "output_type": "execute_result"
    }
   ],
   "source": [
    "nsynth_cut[\"test\"][0][\"audio\"][\"array\"].shape"
   ]
  },
  {
   "cell_type": "code",
   "execution_count": 9,
   "metadata": {},
   "outputs": [
    {
     "name": "stderr",
     "output_type": "stream",
     "text": [
      "Map: 100%|██████████| 6934/6934 [00:00<00:00, 8540.19 examples/s]s]\n",
      "Creating parquet from Arrow format: 100%|██████████| 70/70 [00:00<00:00, 287.53ba/s]\n",
      "Map: 100%|██████████| 6934/6934 [00:00<00:00, 7178.45 examples/s]31.52s/it]\n",
      "Creating parquet from Arrow format: 100%|██████████| 70/70 [00:00<00:00, 286.42ba/s]\n",
      "Map: 100%|██████████| 6933/6933 [00:00<00:00, 7623.72 examples/s]31.71s/it]\n",
      "Creating parquet from Arrow format: 100%|██████████| 70/70 [00:00<00:00, 272.97ba/s]\n",
      "Map: 100%|██████████| 6933/6933 [00:00<00:00, 7527.48 examples/s]31.13s/it]\n",
      "Creating parquet from Arrow format: 100%|██████████| 70/70 [00:00<00:00, 257.99ba/s]\n",
      "Map: 100%|██████████| 6933/6933 [00:00<00:00, 7658.68 examples/s]29.00s/it]\n",
      "Creating parquet from Arrow format: 100%|██████████| 70/70 [00:00<00:00, 278.03ba/s]\n",
      "Map: 100%|██████████| 6933/6933 [00:00<00:00, 7281.65 examples/s]28.70s/it]\n",
      "Creating parquet from Arrow format: 100%|██████████| 70/70 [00:00<00:00, 250.82ba/s]\n",
      "Uploading the dataset shards: 100%|██████████| 6/6 [02:55<00:00, 29.24s/it]\n",
      "Map: 100%|██████████| 3200/3200 [00:00<00:00, 8757.03 examples/s]s]\n",
      "Creating parquet from Arrow format: 100%|██████████| 32/32 [00:00<00:00, 192.96ba/s]\n",
      "Uploading the dataset shards: 100%|██████████| 1/1 [00:11<00:00, 11.31s/it]\n",
      "Map: 100%|██████████| 128/128 [00:00<00:00, 2612.40 examples/s]t/s]\n",
      "Creating parquet from Arrow format: 100%|██████████| 2/2 [00:00<00:00, 152.29ba/s]\n",
      "Uploading the dataset shards: 100%|██████████| 1/1 [00:01<00:00,  1.00s/it]\n"
     ]
    },
    {
     "data": {
      "text/plain": [
       "CommitInfo(commit_url='https://huggingface.co/datasets/aphamm/mamba-muse/commit/83384e5fe567aeab31d16856b1684beb52b7c500', commit_message='Upload dataset', commit_description='', oid='83384e5fe567aeab31d16856b1684beb52b7c500', pr_url=None, repo_url=RepoUrl('https://huggingface.co/datasets/aphamm/mamba-muse', endpoint='https://huggingface.co', repo_type='dataset', repo_id='aphamm/mamba-muse'), pr_revision=None, pr_num=None)"
      ]
     },
     "execution_count": 9,
     "metadata": {},
     "output_type": "execute_result"
    }
   ],
   "source": [
    "nsynth_cut.push_to_hub(\"aphamm/mamba-muse\")"
   ]
  },
  {
   "cell_type": "code",
   "execution_count": null,
   "metadata": {},
   "outputs": [],
   "source": []
  }
 ],
 "metadata": {
  "kernelspec": {
   "display_name": ".venv",
   "language": "python",
   "name": "python3"
  },
  "language_info": {
   "codemirror_mode": {
    "name": "ipython",
    "version": 3
   },
   "file_extension": ".py",
   "mimetype": "text/x-python",
   "name": "python",
   "nbconvert_exporter": "python",
   "pygments_lexer": "ipython3",
   "version": "3.12.7"
  }
 },
 "nbformat": 4,
 "nbformat_minor": 2
}
